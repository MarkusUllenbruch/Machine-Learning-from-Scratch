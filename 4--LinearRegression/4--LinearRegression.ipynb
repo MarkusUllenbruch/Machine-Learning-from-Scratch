{
 "cells": [
  {
   "cell_type": "markdown",
   "id": "877fa367",
   "metadata": {},
   "source": [
    "# Linear Regression from Scratch\n",
    "### with Gradient Descent and Singular Value Decomposition (SVD)\n",
    "\n",
    "#### by Markus Ullenbruch"
   ]
  },
  {
   "cell_type": "code",
   "execution_count": 1,
   "id": "f3a3b7f6",
   "metadata": {},
   "outputs": [],
   "source": [
    "import numpy as np\n",
    "import matplotlib.pyplot as plt"
   ]
  },
  {
   "cell_type": "code",
   "execution_count": 2,
   "id": "0ec4c51a",
   "metadata": {},
   "outputs": [],
   "source": [
    "class LinearRegression:\n",
    "    def __init__(self, X, y):\n",
    "        \"\"\" Linear Regression\n",
    "        \n",
    "        X -- Design Matrix/ Samples of Features, Samples in rows, Features columnwise\n",
    "        y -- Target variable to predict\n",
    "        \"\"\"\n",
    "        self.X = X\n",
    "        self.y = y\n",
    "        \n",
    "        self.initialize_weights(self.X.shape[1])\n",
    "        \n",
    "    def initialize_weights(self, n_features):\n",
    "        f = 1 / np.math.sqrt(n_features)\n",
    "        self.weights = np.random.uniform(-f, f, size=(n_features, 1))\n",
    "        print('Initial Parameters\\n', self.weights)\n",
    "    \n",
    "    def fit(self, gradient_descent=True, lr=0.00001, batch_size=200, epochs=100, shuffle=True):\n",
    "        \"\"\" Calculate Model Parameters\n",
    "        \n",
    "        gradient_descent=True -- Use Gradient Descent\n",
    "        gradient_descent=False -- Use Singular Value Decomposition to solve Ax=b\n",
    "        \"\"\"\n",
    "        self.lr = lr\n",
    "        mse_history, mae_history = [], []\n",
    "        if shuffle:\n",
    "            idx = np.arange(self.X.shape[0])\n",
    "            np.random.shuffle(idx)\n",
    "            self.X = self.X[idx]\n",
    "            self.y = self.y[idx]\n",
    "            \n",
    "        if not gradient_descent:\n",
    "            # Singular Value Decomposition (SVD) for solving X*theta = y\n",
    "            U, S, Vt = np.linalg.svd(self.X, full_matrices=False)\n",
    "            svd_pseudoinverse = Vt.T @ np.linalg.inv(np.diag(S)) @ U.T\n",
    "            self.weights = svd_pseudoinverse @ self.y\n",
    "        else:\n",
    "            # Gradient Descent\n",
    "            print('Gradient Descent calculation start..\\n')\n",
    "            for i in range(epochs):\n",
    "                \n",
    "                # Learning\n",
    "                for batch_X, batch_y in self.generator(self.X, self.y, batch_size):\n",
    "                    pred = self.predict(batch_X)\n",
    "                    grad = batch_X.T @ (pred-batch_y)\n",
    "                \n",
    "                    # Gradient Descent\n",
    "                    self.update(grad, batch_X.shape[0])\n",
    "                \n",
    "                # Calculate Loss\n",
    "                mse, mae = self.evaluate(self.X, self.y)\n",
    "                mse_history.append(mse)\n",
    "                mae_history.append(mae)\n",
    "                \n",
    "        \n",
    "        mse_loss, mae_loss = self.evaluate(self.X, self.y)\n",
    "        print('Training Results:\\nMSE Loss:', mse_loss, '\\nMAE Loss:', mae_loss)\n",
    "        print('Weight Parameter:\\n', self.weights)\n",
    "        return mse_history, mae_history\n",
    "    \n",
    "    def update(self, grad, batch_size):\n",
    "        '''Gradient Descent Step'''\n",
    "        self.weights -= grad * self.lr / batch_size\n",
    "        #print(self.weights)\n",
    "        \n",
    "    def generator(self, X, y, batch_size):\n",
    "        \n",
    "        num_samples = X.shape[0]\n",
    "        for i in range(0, num_samples, batch_size):\n",
    "            batch_X = X[i: i+batch_size, :]\n",
    "            batch_y = y[i: i+batch_size, :]\n",
    "            yield batch_X, batch_y\n",
    "    \n",
    "    def predict(self, X):\n",
    "        return np.dot(X, self.weights)\n",
    "    \n",
    "    def evaluate(self, X, y):\n",
    "        pred = np.dot(X, self.weights)\n",
    "        error = pred-y\n",
    "        mse_loss = np.mean((error)**2)\n",
    "        mae_loss = np.mean(np.abs(error))\n",
    "        return mse_loss, mae_loss"
   ]
  },
  {
   "cell_type": "code",
   "execution_count": 3,
   "id": "b16e0588",
   "metadata": {},
   "outputs": [],
   "source": [
    "class LinearRegression:\n",
    "    def __init__(self, X, y):\n",
    "        \"\"\" Linear Regression\n",
    "        \n",
    "        X -- Design Matrix/ Samples of Features, Samples in rows, Features columnwise\n",
    "        y -- Target variable to predict\n",
    "        \"\"\"\n",
    "        self.X = X\n",
    "        self.y = y\n",
    "        \n",
    "        self.initialize_weights(self.X.shape[1])\n",
    "        \n",
    "    def initialize_weights(self, n_features):\n",
    "        f = 1 / np.math.sqrt(n_features)\n",
    "        self.weights = np.random.uniform(-f, f, size=(n_features, 1))\n",
    "        print('Initial Parameters\\n', self.weights)\n",
    "    \n",
    "    def fit(self, gradient_descent=True, lr=0.00001, batch_size=200, epochs=100, shuffle=True):\n",
    "        \"\"\" Calculate Model Parameters\n",
    "        \n",
    "        gradient_descent=True -- Use Gradient Descent\n",
    "        gradient_descent=False -- Use Singular Value Decomposition to solve Ax=b\n",
    "        \"\"\"\n",
    "        self.lr = lr\n",
    "        mse_history, mae_history = [], []\n",
    "        if shuffle:\n",
    "            idx = np.arange(self.X.shape[0])\n",
    "            np.random.shuffle(idx)\n",
    "            self.X = self.X[idx]\n",
    "            self.y = self.y[idx]\n",
    "            \n",
    "        if not gradient_descent:\n",
    "            # Singular Value Decomposition (SVD) for solving X*theta = y\n",
    "            U, S, Vt = np.linalg.svd(self.X, full_matrices=False)\n",
    "            svd_pseudoinverse = Vt.T @ np.linalg.inv(np.diag(S)) @ U.T\n",
    "            self.weights = svd_pseudoinverse @ self.y\n",
    "        else:\n",
    "            # Gradient Descent\n",
    "            print('Gradient Descent calculation start..\\n')\n",
    "            for i in range(epochs):\n",
    "                \n",
    "                for batch_X, batch_y in self.generator(self.X, self.y, batch_size):\n",
    "                    gradient = self.calc_gradient(batch_X, batch_y)\n",
    "                    self.update(gradient)\n",
    "                \n",
    "                # Calculate Loss\n",
    "                mse, mae = self.evaluate(self.X, self.y)\n",
    "                mse_history.append(mse)\n",
    "                mae_history.append(mae)\n",
    "                \n",
    "        \n",
    "        mse_loss, mae_loss = self.evaluate(self.X, self.y)\n",
    "        print('Training Results:\\nMSE Loss:', mse_loss, '\\nMAE Loss:', mae_loss)\n",
    "        print('Weight Parameter:\\n', self.weights)\n",
    "        return mse_history, mae_history\n",
    "    \n",
    "    def calc_gradient(self, batch_X, batch_y):\n",
    "        grad = np.zeros_like(batch_X[1])\n",
    "        for X, y in zip(batch_X, batch_y):\n",
    "            pred = self.predict(X)\n",
    "            error = pred - y\n",
    "            grad += X*error\n",
    "        grad /= batch_X.shape[0]\n",
    "        grad = np.expand_dims(grad, axis=1)\n",
    "        return grad\n",
    "    \n",
    "    def generator(self, X, y, batch_size):\n",
    "        num_samples = X.shape[0]\n",
    "        for i in range(0, num_samples, batch_size):\n",
    "            batch_X = X[i: i+batch_size, :]\n",
    "            batch_y = y[i: i+batch_size, :]\n",
    "            yield batch_X, batch_y\n",
    "    \n",
    "    def update(self, grad):\n",
    "        '''Gradient Descent Step'''\n",
    "        self.weights -= grad * self.lr\n",
    "        #print(self.weights)\n",
    "        \n",
    "    \n",
    "    def predict(self, X):\n",
    "        return np.dot(X, self.weights)\n",
    "    \n",
    "    def evaluate(self, X, y):\n",
    "        pred = np.dot(X, self.weights)\n",
    "        error = pred-y\n",
    "        mse_loss = np.mean((error)**2)\n",
    "        mae_loss = np.mean(np.abs(error))\n",
    "        return mse_loss, mae_loss"
   ]
  },
  {
   "cell_type": "code",
   "execution_count": 4,
   "id": "79ae2d03",
   "metadata": {},
   "outputs": [],
   "source": [
    "def add_constant(X):\n",
    "    \"\"\"Adding column of Ones to Data Matrix\"\"\"\n",
    "    ones = np.ones((X.shape[0], 1))\n",
    "    X = np.hstack((ones, X))\n",
    "    return X"
   ]
  },
  {
   "cell_type": "code",
   "execution_count": 5,
   "id": "d14f18b7",
   "metadata": {},
   "outputs": [
    {
     "data": {
      "image/png": "[encoded data removed]",
      "text/plain": [
       "<Figure size 432x288 with 1 Axes>"
      ]
     },
     "metadata": {
      "needs_background": "light"
     },
     "output_type": "display_data"
    },
    {
     "data": {
      "image/png": "[encoded data removed]",
      "text/plain": [
       "<Figure size 432x288 with 1 Axes>"
      ]
     },
     "metadata": {
      "needs_background": "light"
     },
     "output_type": "display_data"
    }
   ],
   "source": [
    "x = np.linspace(0, 10)\n",
    "y = 0.4*x + np.random.normal(0, 0.8, x.shape) + 14\n",
    "y = np.expand_dims(y, axis=1)\n",
    "x = np.expand_dims(x, axis=1)\n",
    "\n",
    "\n",
    "plt.scatter(x, y)\n",
    "plt.show()\n",
    "\n",
    "\n",
    "#x = (x-np.mean(x)) / np.std(x)\n",
    "#y = (y-np.mean(y)) / np.std(y)\n",
    "\n",
    "plt.scatter(x, y)\n",
    "plt.show()"
   ]
  },
  {
   "cell_type": "code",
   "execution_count": 6,
   "id": "ff95de73",
   "metadata": {},
   "outputs": [],
   "source": [
    "X_batch = add_constant(x) # adding constant"
   ]
  },
  {
   "cell_type": "code",
   "execution_count": 7,
   "id": "371fae7e",
   "metadata": {},
   "outputs": [
    {
     "name": "stdout",
     "output_type": "stream",
     "text": [
      "Initial Parameters\n",
      " [[ 0.5232405 ]\n",
      " [-0.08090261]]\n",
      "Gradient Descent calculation start..\n",
      "\n",
      "Training Results:\n",
      "MSE Loss: 0.5185695342545383 \n",
      "MAE Loss: 0.5967327029726147\n",
      "Weight Parameter:\n",
      " [[13.76230013]\n",
      " [ 0.44807161]]\n"
     ]
    },
    {
     "data": {
      "image/png": "[encoded data removed]",
      "text/plain": [
       "<Figure size 432x288 with 1 Axes>"
      ]
     },
     "metadata": {
      "needs_background": "light"
     },
     "output_type": "display_data"
    },
    {
     "data": {
      "image/png": "[encoded data removed]",
      "text/plain": [
       "<Figure size 432x288 with 1 Axes>"
      ]
     },
     "metadata": {
      "needs_background": "light"
     },
     "output_type": "display_data"
    },
    {
     "data": {
      "image/png": "[encoded data removed]",
      "text/plain": [
       "<Figure size 432x288 with 1 Axes>"
      ]
     },
     "metadata": {
      "needs_background": "light"
     },
     "output_type": "display_data"
    }
   ],
   "source": [
    "model = LinearRegression(X_batch, y)\n",
    "mse_hist, mae_hist = model.fit(gradient_descent=True,\n",
    "                               lr=0.01,\n",
    "                               epochs=500,\n",
    "                               batch_size=10,\n",
    "                              shuffle=True)\n",
    "pred = model.predict(X_batch)\n",
    "\n",
    "plt.figure()\n",
    "plt.plot(mse_hist)\n",
    "plt.xlabel('Iteration Step')\n",
    "plt.ylabel('MSE Error')\n",
    "plt.show()\n",
    "\n",
    "plt.figure()\n",
    "plt.plot(mae_hist)\n",
    "plt.xlabel('Iteration Step')\n",
    "plt.ylabel('MAE Error')\n",
    "plt.show()\n",
    "\n",
    "plt.figure()\n",
    "plt.scatter(x, y, label='Data')\n",
    "plt.plot(x, pred, c='g', label='Prediction')\n",
    "plt.xlabel('Feature')\n",
    "plt.ylabel('Target')\n",
    "plt.legend()\n",
    "plt.show()"
   ]
  },
  {
   "cell_type": "code",
   "execution_count": null,
   "id": "3dd560a2",
   "metadata": {},
   "outputs": [],
   "source": []
  },
  {
   "cell_type": "code",
   "execution_count": null,
   "id": "6270f46c",
   "metadata": {},
   "outputs": [],
   "source": []
  },
  {
   "cell_type": "code",
   "execution_count": null,
   "id": "4c34d7c8",
   "metadata": {},
   "outputs": [],
   "source": []
  },
  {
   "cell_type": "code",
   "execution_count": null,
   "id": "959d81fb",
   "metadata": {},
   "outputs": [],
   "source": []
  }
 ],
 "metadata": {
  "kernelspec": {
   "display_name": "Python 3",
   "language": "python",
   "name": "python3"
  },
  "language_info": {
   "codemirror_mode": {
    "name": "ipython",
    "version": 3
   },
   "file_extension": ".py",
   "mimetype": "text/x-python",
   "name": "python",
   "nbconvert_exporter": "python",
   "pygments_lexer": "ipython3",
   "version": "3.7.10"
  }
 },
 "nbformat": 4,
 "nbformat_minor": 5
}
