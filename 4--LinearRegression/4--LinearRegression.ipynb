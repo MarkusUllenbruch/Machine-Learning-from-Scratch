{
 "cells": [
  {
   "cell_type": "markdown",
   "id": "877fa367",
   "metadata": {},
   "source": [
    "# Linear Regression from Scratch\n",
    "### with Gradient Descent and Singular Value Decomposition (SVD)\n",
    "\n",
    "#### by Markus Ullenbruch"
   ]
  },
  {
   "cell_type": "code",
   "execution_count": 1,
   "id": "f3a3b7f6",
   "metadata": {},
   "outputs": [],
   "source": [
    "import numpy as np\n",
    "import matplotlib.pyplot as plt"
   ]
  },
  {
   "cell_type": "code",
   "execution_count": 2,
   "id": "0ec4c51a",
   "metadata": {},
   "outputs": [],
   "source": [
    "class LinearRegression:\n",
    "    def __init__(self, X, y):\n",
    "        \"\"\" Linear Regression\n",
    "        \n",
    "        X -- Design Matrix/ Samples of Features, Samples in rows, Features columnwise\n",
    "        y -- Target variable to predict\n",
    "        \"\"\"\n",
    "        self.X = X\n",
    "        self.y = y\n",
    "        self.weights = None\n",
    "    \n",
    "    def fit(self, gradient_descent=True, tol=1e-4):\n",
    "        \"\"\" Calculate Model Parameters\n",
    "        \n",
    "        gradient_descent=True -- Use Gradient Descent\n",
    "        gradient_descent=False -- Use Singular Value Decomposition to solve Ax=b\n",
    "        \"\"\"\n",
    "        if not gradient_descent:\n",
    "            # Singular Value Decomposition (SVD) for solving X*theta = y\n",
    "            U, S, Vt = np.linalg.svd(self.X, full_matrices=False)\n",
    "            svd_pseudoinverse = Vt.T @ np.linalg.inv(np.diag(S)) @ U.T\n",
    "            self.weights = svd_pseudoinverse @ self.y\n",
    "        else:\n",
    "            # Gradient Descent --TO IMPLEMENT--\n",
    "            pass\n",
    "        \n",
    "        mse_loss, mae_loss = self.evaluate(self.X, self.y)\n",
    "        print('Training Results:\\nMSE Loss:', mse_loss, '\\nMAE Loss:', mae_loss)\n",
    "        print('Weight Parameter:\\n', self.weights)\n",
    "    \n",
    "    def predict(self, X):\n",
    "        return np.dot(X, self.weights)\n",
    "    \n",
    "    def evaluate(self, X, y):\n",
    "        pred = np.dot(X, self.weights)\n",
    "        error = pred-y\n",
    "        mse_loss = np.mean((error)**2)\n",
    "        mae_loss = np.mean(np.abs(error))\n",
    "        return mse_loss, mae_loss"
   ]
  },
  {
   "cell_type": "code",
   "execution_count": 3,
   "id": "79ae2d03",
   "metadata": {},
   "outputs": [],
   "source": [
    "def add_constant(X):\n",
    "    \"\"\"Adding column of Ones to Data Matrix\"\"\"\n",
    "    ones = np.ones((X.shape[0], 1))\n",
    "    X = np.hstack((ones, X))\n",
    "    return X"
   ]
  },
  {
   "cell_type": "code",
   "execution_count": 4,
   "id": "d14f18b7",
   "metadata": {},
   "outputs": [
    {
     "name": "stdout",
     "output_type": "stream",
     "text": [
      "(50, 1) (50, 1)\n"
     ]
    }
   ],
   "source": [
    "x = np.linspace(0, 100)\n",
    "y = x + np.random.normal(0, 10, x.shape)\n",
    "y = np.expand_dims(y, axis=1)\n",
    "x = np.expand_dims(x, axis=1)\n",
    "print(x.shape, y.shape)"
   ]
  },
  {
   "cell_type": "code",
   "execution_count": 5,
   "id": "371fae7e",
   "metadata": {},
   "outputs": [
    {
     "name": "stdout",
     "output_type": "stream",
     "text": [
      "Training Results:\n",
      "MSE Loss: 86.21869269071935 \n",
      "MAE Loss: 7.604193737808555\n",
      "Weight Parameter:\n",
      " [[1.95317844]\n",
      " [0.9518372 ]]\n"
     ]
    },
    {
     "data": {
      "image/png": "[encoded data removed]",
      "text/plain": [
       "<Figure size 432x288 with 1 Axes>"
      ]
     },
     "metadata": {
      "needs_background": "light"
     },
     "output_type": "display_data"
    }
   ],
   "source": [
    "X_batch = add_constant(x) # adding constant\n",
    "\n",
    "model = LinearRegression(X_batch, y)\n",
    "model.fit(gradient_descent=False)\n",
    "pred = model.predict(X_batch)\n",
    "\n",
    "plt.scatter(x, y, label='Data')\n",
    "plt.plot(x, pred, c='g', label='Prediction')\n",
    "plt.legend()\n",
    "plt.show()"
   ]
  },
  {
   "cell_type": "code",
   "execution_count": null,
   "id": "1a7d5601",
   "metadata": {},
   "outputs": [],
   "source": []
  },
  {
   "cell_type": "code",
   "execution_count": null,
   "id": "01144274",
   "metadata": {},
   "outputs": [],
   "source": []
  }
 ],
 "metadata": {
  "kernelspec": {
   "display_name": "Python 3",
   "language": "python",
   "name": "python3"
  },
  "language_info": {
   "codemirror_mode": {
    "name": "ipython",
    "version": 3
   },
   "file_extension": ".py",
   "mimetype": "text/x-python",
   "name": "python",
   "nbconvert_exporter": "python",
   "pygments_lexer": "ipython3",
   "version": "3.7.10"
  }
 },
 "nbformat": 4,
 "nbformat_minor": 5
}
